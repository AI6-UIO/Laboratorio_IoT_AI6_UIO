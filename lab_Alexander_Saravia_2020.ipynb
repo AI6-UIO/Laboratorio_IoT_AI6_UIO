{
 "cells": [
  {
   "cell_type": "markdown",
   "metadata": {
    "slideshow": {
     "slide_type": "slide"
    }
   },
   "source": [
    "# Guía de Laboratorio para Introducción al IoT - Saturdays AI Quito 2020\n",
    "\n",
    "<center>\n",
    " <img src=\"img/ai6UIO.png\" height=\"300px\" width=\"300px\"></img>\n",
    "</center>\n"
   ]
  },
  {
   "cell_type": "markdown",
   "metadata": {
    "slideshow": {
     "slide_type": "slide"
    }
   },
   "source": [
    "# Objetivos\n",
    "Aplicar:\n",
    "- Conexiones remotas a Raspberry Pi\n",
    "- Uso de Raspbian OS a través de `bash`\n",
    "- Manejo de `GPIO`/`GPIOEmulator` \n",
    "- Uso de la clase `time` y `threading` en python\n",
    "- Manejo de protocolo `UART` a través de pyserial (empleando `SOCAT` para simular puertos seriales)\n",
    "- Publicación y suscripción de mensajes a través de `MQTT`\n",
    "- Uso de `Node-RED` como interfaz de aplicación IoT\n",
    "- Despliegue de información de `MQTT` a Cloud"
   ]
  },
  {
   "cell_type": "markdown",
   "metadata": {
    "slideshow": {
     "slide_type": "slide"
    }
   },
   "source": [
    "# Plantemiento\n",
    "\n",
    "Se dispone de un __nodo sensor en campo__ (simulado en python) que capta 2 señales analógicas A y B (int, float respectivamente). Estas son enviadas a través una comunicación serial UART (simulada mediante SOCAT) a una Raspberry Pi que cumple funciones de gateway IoT.\n",
    "\n",
    "Crear un sistema IoT basado en Raspberry Pi y Python donde:\n",
    "\n",
    "* Se disponga de dos pulsadores (push button en __GPIOEmulator__) donde uno inicie el sistema y el otro lo apague.\n",
    "\n",
    "* Se implemente una función que recibe el nivel de la variable analógica A y determine el nivel en el que se encuentra bajo: 0-20%, medio: 20-60% o alto: 60-100% cada nivel debe mostrarse con un LED distinto (utilizando __GPIO Emulator__), esta función no retorna valores.\n",
    "\n",
    "* Se implemente una función que recibe el nivel de la variable analógica B y retorna un mensje de \"alarma\" en el caso de descender por debajo del valor 0,01 y envia este mensaje por el puerto serial hacia el nodo IoT (Simulada mediante SOCAT). \n",
    "\n",
    "* Una función para publicar la información de las señales a través de MQTT. Para la señal A en el tópico `sensores/A` cada 10seg y Para la señal B en el tópico `sensores/B` cada cada 15 seg.\n",
    "Se tomará en cuenta que el uso de hilos para ejecutar cada proceso depublicación.\n",
    "\n",
    "* La información, publicada por MQTT será procesada (suscripción) en Node RED donde se presentará una interfaz gráfica de usuario con la información de las variables.\n",
    "\n",
    "### BONUS: \n",
    "- Simular más nodos en python e integrarlos al sistema.\n",
    "- Publicar los datos de MQTT a un servicio de nube (ej. AWS IoT, Google Cloud IoT, Azure IoT, etc)."
   ]
  },
  {
   "cell_type": "markdown",
   "metadata": {
    "slideshow": {
     "slide_type": "slide"
    }
   },
   "source": [
    "## Configuración de puertos seriales virtuales - VSP\n",
    "\n",
    "1. Para ejecutar los VSP con SOCAT\n",
    "\n",
    "```bash\n",
    "sudo socat -d -d -d -v -x PTY,link=/dev/ttyUSB10,mode=777,unlink-close,raw,echo=0 PTY,link=/dev/ttyUSB20,mode=777,unlink-close,raw,echo=0\n",
    "```\n",
    "\n",
    "2. Evaluar y otorgar permisos\n",
    "\n",
    "`ls -l /dev/ttyUSB*`\n",
    "\n",
    "`sudo chmod +x /dev/ttyUSB*`\n",
    "\n",
    "3. Abrir una nueva terminal, Probar enviar en terminal emisor (TX)\n",
    "\n",
    "`echo \"hola mundo\" > /dev/ttyUSB20`\n",
    "\n",
    "4. Abrir una nueva terminal, Recibir y mostrarar la información en terminal receptor (RX)\n",
    "\n",
    "`cat < /dev/ttyUSB10`\n",
    "\n",
    "5. Por último instalar el modulo `serial` para python3\n",
    "\n",
    "`sudo pip3 install pyserial`"
   ]
  },
  {
   "cell_type": "markdown",
   "metadata": {
    "slideshow": {
     "slide_type": "slide"
    }
   },
   "source": [
    "## Ejecución del \"nodo sensor en campo\"\n",
    "Ejecutar el siguiente código (preferentemenete en un script de python 3 a través de una terminal de Raspberry Pi), esto permite simular el *__envio__* las señales A y B, empleando la comunicación UART de forma periódica."
   ]
  },
  {
   "cell_type": "code",
   "execution_count": 19,
   "metadata": {
    "slideshow": {
     "slide_type": "slide"
    }
   },
   "outputs": [
    {
     "name": "stdout",
     "output_type": "stream",
     "text": [
      "emitiendo info ...\n"
     ]
    }
   ],
   "source": [
    "#!/usr/bin/python3\n",
    "\n",
    "import serial, time\n",
    "from random import randrange, uniform\n",
    "\n",
    "ser = serial.Serial('/dev/ttyUSB20', 9600)\n",
    "print(\"emitiendo info ...\")\n",
    "cont = 0\n",
    "\n",
    "while cont<10:\n",
    "    cont+=1\n",
    "    senalA=str(randrange(255))\n",
    "    senalB=str(round(uniform(-0.25, 0.25),2))\n",
    "#     print(str.encode(senalA)+str.encode(',')+str.encode(senalB))\n",
    "    ser.write(str.encode(senalA)+str.encode(',')+str.encode(senalB))\n",
    "    time.sleep(0.5) \n",
    "    \n",
    "ser.close()"
   ]
  },
  {
   "cell_type": "markdown",
   "metadata": {},
   "source": [
    "# Solución"
   ]
  },
  {
   "cell_type": "code",
   "execution_count": 1,
   "metadata": {},
   "outputs": [
    {
     "ename": "ModuleNotFoundError",
     "evalue": "No module named 'PIN'",
     "output_type": "error",
     "traceback": [
      "\u001b[0;31m---------------------------------------------------------------------------\u001b[0m",
      "\u001b[0;31mModuleNotFoundError\u001b[0m                       Traceback (most recent call last)",
      "\u001b[0;32m<ipython-input-1-5ceb761afece>\u001b[0m in \u001b[0;36m<module>\u001b[0;34m()\u001b[0m\n\u001b[1;32m      7\u001b[0m \u001b[0;34m\u001b[0m\u001b[0m\n\u001b[1;32m      8\u001b[0m \u001b[0;31m# ********************************* Importacion de modulos de python\u001b[0m\u001b[0;34m\u001b[0m\u001b[0;34m\u001b[0m\u001b[0;34m\u001b[0m\u001b[0m\n\u001b[0;32m----> 9\u001b[0;31m \u001b[0;32mfrom\u001b[0m \u001b[0mGPIO_EMU\u001b[0m\u001b[0;34m.\u001b[0m\u001b[0mEmulatorGUI\u001b[0m \u001b[0;32mimport\u001b[0m \u001b[0mGPIO\u001b[0m \u001b[0;31m# en maquina virtual\u001b[0m\u001b[0;34m\u001b[0m\u001b[0;34m\u001b[0m\u001b[0m\n\u001b[0m\u001b[1;32m     10\u001b[0m \u001b[0;31m# import RPi.GPIO as GPIO # en raspberry pi fisica\u001b[0m\u001b[0;34m\u001b[0m\u001b[0;34m\u001b[0m\u001b[0;34m\u001b[0m\u001b[0m\n\u001b[1;32m     11\u001b[0m \u001b[0;32mimport\u001b[0m \u001b[0mtime\u001b[0m\u001b[0;34m\u001b[0m\u001b[0;34m\u001b[0m\u001b[0m\n",
      "\u001b[0;32m/home/pi/Documents/Laboratorio_IoT/GPIO_EMU/EmulatorGUI.py\u001b[0m in \u001b[0;36m<module>\u001b[0;34m()\u001b[0m\n\u001b[1;32m      1\u001b[0m \u001b[0;32mfrom\u001b[0m \u001b[0mtkinter\u001b[0m \u001b[0;32mimport\u001b[0m \u001b[0;34m*\u001b[0m\u001b[0;34m\u001b[0m\u001b[0;34m\u001b[0m\u001b[0m\n\u001b[1;32m      2\u001b[0m \u001b[0;32mimport\u001b[0m \u001b[0mtkinter\u001b[0m \u001b[0;32mas\u001b[0m \u001b[0mtk\u001b[0m\u001b[0;34m\u001b[0m\u001b[0;34m\u001b[0m\u001b[0m\n\u001b[0;32m----> 3\u001b[0;31m \u001b[0;32mfrom\u001b[0m \u001b[0mPIN\u001b[0m \u001b[0;32mimport\u001b[0m \u001b[0mPIN\u001b[0m\u001b[0;34m\u001b[0m\u001b[0;34m\u001b[0m\u001b[0m\n\u001b[0m\u001b[1;32m      4\u001b[0m \u001b[0;32mfrom\u001b[0m \u001b[0mTypeChecker\u001b[0m \u001b[0;32mimport\u001b[0m \u001b[0mtypeassert\u001b[0m\u001b[0;34m\u001b[0m\u001b[0;34m\u001b[0m\u001b[0m\n\u001b[1;32m      5\u001b[0m \u001b[0;32mimport\u001b[0m \u001b[0mthreading\u001b[0m\u001b[0;34m\u001b[0m\u001b[0;34m\u001b[0m\u001b[0m\n",
      "\u001b[0;31mModuleNotFoundError\u001b[0m: No module named 'PIN'"
     ]
    }
   ],
   "source": [
    "#!/usr/bin/python3\n",
    "\n",
    "# ********************************* Detalles de autoria \n",
    "__author__ = \"Alexander Saravia\"\n",
    "__license__ = \"CC BY-NC-SA 4.0\"\n",
    "__version__ = \"1.0.0\"\n",
    "\n",
    "# ********************************* Importacion de modulos de python\n",
    "from EmulatorGUI import GPIO # en maquina virtual\n",
    "# import RPi.GPIO as GPIO # en raspberry pi fisica\n",
    "import time\n",
    "\n",
    "# ********************************* Configuraciones (SETUP)\n",
    "GPIO.cleanup()\n",
    "GPIO.setmode(GPIO.BCM)\n",
    "led = 14\n",
    "GPIO.setup(led, GPIO.OUT)\n",
    "\n",
    "# ********************************* Declaracion de variables globales y funciones \n",
    "cont = 0\n",
    "\n",
    "def func():\n",
    "    return \"Ejcutando func\"\n",
    "\n",
    "# ********************************* Ciclos repetitovos (LOOP)\n",
    "try:\n",
    "    while cont<10:\n",
    "        cont+=1\n",
    "        GPIO.output(led, True)\n",
    "        time.sleep(0.5)\n",
    "        GPIO.output(led, False)\n",
    "        time.sleep(0.5)\n",
    "        print(func())\n",
    "\n",
    "# ********************************* Limpieza de GPIO        \n",
    "finally:\n",
    "    print(\"Ejecuciones del lazo repetitivo \"+str(cont)) \n",
    "    GPIO.cleanup()"
   ]
  },
  {
   "cell_type": "code",
   "execution_count": 21,
   "metadata": {},
   "outputs": [],
   "source": [
    "GPIO.cleanup()"
   ]
  },
  {
   "cell_type": "markdown",
   "metadata": {
    "slideshow": {
     "slide_type": "slide"
    }
   },
   "source": [
    "\n",
    "# Conclusiones \n",
    "- \n",
    "- \n",
    "- \n",
    "- "
   ]
  },
  {
   "cell_type": "markdown",
   "metadata": {},
   "source": [
    "# Recomendaciones  \n",
    "- \n",
    "- \n",
    "- \n",
    "- "
   ]
  },
  {
   "cell_type": "markdown",
   "metadata": {
    "slideshow": {
     "slide_type": "slide"
    }
   },
   "source": [
    "# *Referencias*\n",
    "- Monk, S. (2018). Raspberry Pi cookbook. Place of publication not identified: O'Reilly Media. \n",
    "    > Libro: https://books.google.com.ec/books?id=QMovDAAAQBAJ&lpg=PP1&pg=PP1#v=onepage&q&f=false \n",
    "    \n",
    "    > Github Simon Monk: https://github.com/simonmonk/raspberrypi_cookbook_ed2\n",
    "- Kolban, N. (2016). Kolban's book on Raspberry pi. USA: Leanpub. \n",
    "    > Libro: https://leanpub.com/pi"
   ]
  },
  {
   "cell_type": "markdown",
   "metadata": {
    "slideshow": {
     "slide_type": "slide"
    }
   },
   "source": [
    "\n",
    "> Desarrollo: Alexander Saravia\n",
    "\n",
    "> email: alexandersaravia@protonmail.com \n",
    "\n",
    "<center>\n",
    "<a rel=\"license\" href=\"http://creativecommons.org/licenses/by-nc-sa/4.0/\"><center><img alt=\"Creative Commons License\" style=\"border-width:0\" src=\"https://i.creativecommons.org/l/by-nc-sa/4.0/88x31.png\" /> </center> </a> <br />This work is licensed under a <a rel=\"license\" href=\"http://creativecommons.org/licenses/by-nc-sa/4.0/\">Creative Commons Attribution-NonCommercial-ShareAlike 4.0 International License</a>\n",
    "</center>\n"
   ]
  }
 ],
 "metadata": {
  "celltoolbar": "Slideshow",
  "kernelspec": {
   "display_name": "Python 3",
   "language": "python",
   "name": "python3"
  },
  "language_info": {
   "codemirror_mode": {
    "name": "ipython",
    "version": 3
   },
   "file_extension": ".py",
   "mimetype": "text/x-python",
   "name": "python",
   "nbconvert_exporter": "python",
   "pygments_lexer": "ipython3",
   "version": "3.7.3"
  },
  "rise": {
   "enable_chalkboard": true,
   "footer": "<h3>Alexander Saravia</h3>",
   "header": "<h3>IoT Saturdays AI</h3>",
   "scroll": true,
   "theme": "serif",
   "transition": "zoom"
  },
  "toc": {
   "base_numbering": 1,
   "nav_menu": {
    "height": "384px",
    "width": "495px"
   },
   "number_sections": true,
   "sideBar": true,
   "skip_h1_title": false,
   "title_cell": "Table of Contents",
   "title_sidebar": "Contents",
   "toc_cell": false,
   "toc_position": {},
   "toc_section_display": true,
   "toc_window_display": false
  },
  "varInspector": {
   "cols": {
    "lenName": 16,
    "lenType": 16,
    "lenVar": 40
   },
   "kernels_config": {
    "python": {
     "delete_cmd_postfix": "",
     "delete_cmd_prefix": "del ",
     "library": "var_list.py",
     "varRefreshCmd": "print(var_dic_list())"
    },
    "r": {
     "delete_cmd_postfix": ") ",
     "delete_cmd_prefix": "rm(",
     "library": "var_list.r",
     "varRefreshCmd": "cat(var_dic_list()) "
    }
   },
   "types_to_exclude": [
    "module",
    "function",
    "builtin_function_or_method",
    "instance",
    "_Feature"
   ],
   "window_display": false
  }
 },
 "nbformat": 4,
 "nbformat_minor": 4
}